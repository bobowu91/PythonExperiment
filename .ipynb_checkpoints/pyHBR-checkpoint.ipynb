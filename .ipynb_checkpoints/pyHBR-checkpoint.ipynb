{
 "cells": [
  {
   "cell_type": "code",
   "execution_count": 4,
   "metadata": {},
   "outputs": [],
   "source": [
    "from selenium import webdriver\n",
    "from bs4 import BeautifulSoup\n",
    "import pandas as pd\n",
    "import requests\n",
    "import login  # a python file that contains my login information\n",
    "import time"
   ]
  },
  {
   "cell_type": "code",
   "execution_count": 5,
   "metadata": {},
   "outputs": [],
   "source": [
    "path = r'/Users/yibowang/Documents/Chromedriver/chromedriver'\n",
    "hbr = ('https://www.lib.uwo.ca/cgi-bin/ezpauthn.cgi?url='\n",
    "       'http://search.ebscohost.com/direct.asp?db=bth&jid=HBR&scope=site')\n",
    "username = login.username\n",
    "password = login.password"
   ]
  },
  {
   "cell_type": "code",
   "execution_count": 6,
   "metadata": {},
   "outputs": [],
   "source": [
    "# Initiate a web browser and go to the url in the browser\n",
    "options = webdriver.ChromeOptions()\n",
    "options.add_argument('headless')\n",
    "driver = webdriver.Chrome(path, options=options)\n",
    "driver.get(hbr)"
   ]
  },
  {
   "cell_type": "code",
   "execution_count": 7,
   "metadata": {},
   "outputs": [],
   "source": [
    "# log in to the website to create one session\n",
    "user = driver.find_element_by_name('user')\n",
    "user.send_keys(username)\n",
    "pin = driver.find_element_by_name('pass')\n",
    "pin.send_keys(password)\n",
    "login_button = driver.find_element_by_xpath(\n",
    "    '/html/body/center[2]/div/form/p[4]/input')\n",
    "login_button.click()"
   ]
  },
  {
   "cell_type": "code",
   "execution_count": 8,
   "metadata": {},
   "outputs": [],
   "source": [
    "# Land in a new page and locate the 'All issues' table\n",
    "# issue = driver.maximize_window()\n",
    "# time.sleep(3)  # this is crucial for the web browser to load and react\n",
    "\n",
    "issues = driver.find_elements_by_class_name(\"authVolIssue_volume_cell\")\n",
    "issue = driver.find_element_by_xpath('//*[@id=\"VolumeTable\"]/tbody/tr[1]/td/a')\n",
    "issue.click()\n",
    "# time.sleep(3)"
   ]
  },
  {
   "cell_type": "code",
   "execution_count": 9,
   "metadata": {},
   "outputs": [],
   "source": [
    "# locate the most recent volume in the issue\n",
    "vol = driver.find_element_by_link_text(\"Vol. 98 Issue 3 - May/Jun2020\")\n",
    "vol.click()\n",
    "# time.sleep(3)"
   ]
  },
  {
   "cell_type": "code",
   "execution_count": 11,
   "metadata": {},
   "outputs": [
    {
     "name": "stdout",
     "output_type": "stream",
     "text": [
      "Result List: JN &quot;Harvard Business Review&quot; AND DT 20200501: EBSCOhost\n"
     ]
    }
   ],
   "source": [
    "print(driver.title)"
   ]
  },
  {
   "cell_type": "code",
   "execution_count": 12,
   "metadata": {},
   "outputs": [],
   "source": [
    "hbrlist = []\n",
    "hbr_article_link = driver.find_elements_by_link_text('HTML Full Text')\n",
    "for i, item in enumerate(hbr_article_link):\n",
    "    time.sleep(3)\n",
    "    hbr_article_link = driver.find_elements_by_link_text('HTML Full Text')\n",
    "    hbr_article_link[i].click()\n",
    "    time.sleep(3)\n",
    "    article_html = driver.page_source\n",
    "    article = BeautifulSoup(article_html, \"html.parser\")\n",
    "    hbr_article_text = article.find_all(\"p\", {'class': \"body-paragraph\"})\n",
    "    hbrlist.append(hbr_article_text)\n",
    "    driver.execute_script(\"window.history.go(-1)\")  # Return to the previous"
   ]
  },
  {
   "cell_type": "code",
   "execution_count": 13,
   "metadata": {},
   "outputs": [],
   "source": [
    "driver.close()"
   ]
  },
  {
   "cell_type": "code",
   "execution_count": 14,
   "metadata": {},
   "outputs": [
    {
     "name": "stdout",
     "output_type": "stream",
     "text": [
      "10\n",
      "<class 'list'>\n"
     ]
    }
   ],
   "source": [
    "print(len(hbrlist))\n",
    "print(type(hbrlist))"
   ]
  },
  {
   "cell_type": "code",
   "execution_count": 16,
   "metadata": {},
   "outputs": [
    {
     "name": "stdout",
     "output_type": "stream",
     "text": [
      "Creative work often takes place in a competitive environment. For example, firms pitch against rivals for new projects, and entrepreneurs vie for VC funding. Opinion is divided regarding how this affects individual creativity, with some scholars arguing that competition inspires the risk-taking necessary for innovation and others believing it suppresses intrinsic motivation or causes people to \"choke.\" A new study finds that for top performers, competition heightens creativity -- up to a point.\n",
      "\n",
      "\n",
      "The researcher studied 122 logo design contests hosted on a widely used online platform. Participants could submit as many designs as they wanted during the course of each contest, and they could see in real time the ratings (one to five stars) given to their own designs along with the overall distribution of scores -- so they had a sense at each turn of how they were doing and the level of competition they faced. Using image comparison algorithms to assess the originality of each entry, the researcher found that in the absence of stiff competition, participants receiving five stars for a design typically just tweaked it for their next submission. When competition was more intense, they were more likely to come up with more-original designs -- but when it became too severe, they dropped out. The sweet spot -- the point at which participants were most likely to submit another original design -- came when entrants had just one similarly rated competitor, giving them a 50/50 chance of winning.\n",
      "\n",
      "\n",
      "\"Competition can motivate creativity in professional settings, provided it is balanced,\" the researcher writes. \"Some competition is needed to motivate high performers to develop original, untested ideas",
      "but heavy competition drives them to stop investing altogether.\" He adds that \"in practice, this 'Goldilocks' level of competition may be difficult to achieve,\" and the precise threshold will depend on the context and setting.\n",
      "\n",
      "\n",
      " ©ABOUT THE RESEARCH  \"Creativity Under Fire: The Effects of Competition on Creative Production,\" by Daniel P. Gross (The Review of Economics and Statistics, forthcoming)\n",
      "\n",
      "\n",
      "PHOTO (COLOR)\n",
      "\n",
      "\n",
      "Copyright 2020 Harvard Business Publishing. All Rights Reserved. Additional restrictions may apply including the use of this content as assigned course material. Please consult your institution's librarian about any restrictions that might apply under the license with your institution. For more information and teaching resources from Harvard Business Publishing including Harvard Business School Cases, eLearning products, and business simulations please visit hbsp.harvard.edu.\n",
      "\n",
      "\n",
      "Small fibs are often seen as a harmless or even necessary part of workplace life; for example, an employee might color his or her account of an event to avoid hurting a colleague's feelings. But new research shows that even seemingly inconsequential lies carry a cost: They erode the teller's ability to read other people, which can heighten misunderstandings and weaken professional relationships.\n",
      "\n",
      "\n",
      "The researchers conducted eight studies involving more than 1,500 participants. In one, 250 pairs of people exchanged stories about looking for a job and then assessed their own and their partners' emotional states. Half the participants were instructed to make up a job-hunting story to amuse their partners or make them feel better about their own searches, and the rest were asked to stick to real experiences. Those in the first group were significantly less able to discern what their partners were feeling.\n",
      "\n",
      "\n",
      "Other studies in the series, in which some subjects were given an opportunity to cheat in a game, established a reason for this result: Those who behaved dishonestly were less likely to define themselves in terms of their relationships with others and were more likely to dehumanize people around them, and this distancing made them less accurate in judging emotions.\n",
      "\n",
      "\n",
      "What's more, the behavior tends to snowball. \"The link between dishonest behavior and empathic accuracy may create a vicious cycle, in which an individual who engages in dishonest acts becomes increasingly more socially isolated and unsupported, thus making it easier to rationalize future dehumanization and dishonest behavior,\" the researchers write.\n",
      "\n",
      "\n",
      " ©ABOUT THE RESEARCH  \"The Interpersonal Costs of Dishonesty: How Dishonest Behavior Reduces Individuals' Ability to Read Others' Emotions,\" by Julia J. Lee et al. (Journal of Experimental Psychology: General, 2019)\n",
      "\n",
      "\n",
      "PHOTO (COLOR)\n",
      "\n",
      "\n",
      "Copyright 2020 Harvard Business Publishing. All Rights Reserved. Additional restrictions may apply including the use of this content as assigned course material. Please consult your institution's librarian about any restrictions that might apply under the license with your institution. For more information and teaching resources from Harvard Business Publishing including Harvard Business School Cases, eLearning products, and business simulations please visit hbsp.harvard.edu.\n",
      "\n",
      "\n"
     ]
    }
   ],
   "source": [
    "for item in hbrlist[3:5]:\n",
    "    for paragraph in item:\n",
    "        print(paragraph.text)\n",
    "        print('\\n')\n",
    "    print(\"______________________________________________________\")"
   ]
  },
  {
   "cell_type": "code",
   "execution_count": null,
   "metadata": {},
   "outputs": [],
   "source": []
  },
  {
   "cell_type": "code",
   "execution_count": null,
   "metadata": {},
   "outputs": [],
   "source": []
  }
 ],
 "metadata": {
  "kernelspec": {
   "display_name": "Python 3",
   "language": "python",
   "name": "python3"
  },
  "language_info": {
   "codemirror_mode": {
    "name": "ipython",
    "version": 3
   },
   "file_extension": ".py",
   "mimetype": "text/x-python",
   "name": "python",
   "nbconvert_exporter": "python",
   "pygments_lexer": "ipython3",
   "version": "3.7.6"
  }
 },
 "nbformat": 4,
 "nbformat_minor": 4
}
