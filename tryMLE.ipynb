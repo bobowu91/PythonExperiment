{
 "cells": [
  {
   "cell_type": "markdown",
   "metadata": {},
   "source": [
    "## Use Maximium Likelihood Estimation to estimate the parameter of a Gaussian distribution ##\n",
    "https://towardsdatascience.com/probability-concepts-explained-maximum-likelihood-estimation-c7b4342fdbb1\n",
    "and StatsQuest MLE on Normal Distribution\n",
    "https://www.projectrhea.org/rhea/index.php/Maximum_Likelihood_Estimation_Analysis_for_various_Probability_Distributions"
   ]
  },
  {
   "cell_type": "code",
   "execution_count": 92,
   "metadata": {},
   "outputs": [],
   "source": [
    "import numpy as np\n",
    "import pandas as pd\n",
    "import matplotlib.pyplot as plt\n",
    "import math"
   ]
  },
  {
   "cell_type": "code",
   "execution_count": 93,
   "metadata": {},
   "outputs": [],
   "source": [
    "n = 10000\n",
    "mu = np.random.randint(30,50) # generate a random number as mean from 0 to 10\n",
    "std = np.random.randint(3,25) # generate a random number as standard deviation from 5 to 15\n",
    "x = np.random.normal(mu, std, n) #simulate 100 instances from the normal distribution"
   ]
  },
  {
   "cell_type": "code",
   "execution_count": 94,
   "metadata": {},
   "outputs": [
    {
     "name": "stdout",
     "output_type": "stream",
     "text": [
      "33\n",
      "6\n",
      "[43.95911136 35.67942554 27.21414357 29.46924036 31.17460389 36.32607989\n",
      " 36.74475015 28.93953104 39.87363342 22.07480896]\n"
     ]
    }
   ],
   "source": [
    "print(mu)\n",
    "print(std)\n",
    "print(x[0:10])"
   ]
  },
  {
   "cell_type": "code",
   "execution_count": 95,
   "metadata": {},
   "outputs": [
    {
     "name": "stdout",
     "output_type": "stream",
     "text": [
      "32.95809938653252 5.904594570419897\n"
     ]
    }
   ],
   "source": [
    "avg = np.mean(x)\n",
    "sig = np.std(x)\n",
    "print(avg, sig)"
   ]
  },
  {
   "cell_type": "code",
   "execution_count": 96,
   "metadata": {},
   "outputs": [
    {
     "data": {
      "image/png": "[encoded data removed]",
      "text/plain": [
       "<Figure size 432x288 with 1 Axes>"
      ]
     },
     "metadata": {
      "needs_background": "light"
     },
     "output_type": "display_data"
    }
   ],
   "source": [
    "count, bins, ignored = plt.hist(x, 30, density=True)\n",
    "plt.show()"
   ]
  },
  {
   "cell_type": "code",
   "execution_count": 97,
   "metadata": {},
   "outputs": [],
   "source": [
    "# likelihood calculation for normal distribution \n",
    "def likelihood(a, mu, std):\n",
    "    return math.exp( -(a - mu) ** 2 / (2 * std ** 2))/math.sqrt(2 * math.pi * std ** 2)"
   ]
  },
  {
   "cell_type": "code",
   "execution_count": 98,
   "metadata": {},
   "outputs": [],
   "source": [
    "def MLE(data, start, end, mu=None, std=None):\n",
    "    \n",
    "    estimator = []\n",
    "    xaxis = []\n",
    "    \n",
    "    if (mu == None) & (std != None):  # estimate max mu with a fixed std\n",
    "        for i in range(10*start, 10*end, 2):\n",
    "            mu = i/10\n",
    "            xaxis.append(mu) # use for plot of x-axis \n",
    "            lh = [likelihood(x, mu, std) for x in data] # std can be set as 10\n",
    "            log_transformation = [np.log10(i) for i in lh]\n",
    "            product = sum(log_transformation) \n",
    "            estimator.append(product)\n",
    "        \n",
    "        \n",
    "    elif (std == None) & (mu != None): # estimate max std with a fixed mu\n",
    "        for i in range(10*start, 10*end, 2):\n",
    "            std = i/10\n",
    "            xaxis.append(std)      \n",
    "            lh = [likelihood(x, mu, std) for x in data] # std can be set as 10\n",
    "            log_transformation = [np.log10(i) for i in lh]\n",
    "            product = sum(log_transformation) \n",
    "            estimator.append(product)\n",
    "    else:\n",
    "        print(\"Parameter setting for mu or std is not right.\")\n",
    "        return 0,0\n",
    "    \n",
    "\n",
    "    return xaxis, estimator\n"
   ]
  },
  {
   "cell_type": "code",
   "execution_count": 99,
   "metadata": {},
   "outputs": [],
   "source": [
    "def find_max(x, y): # input x,y are both lists; x is samples range and y is the log likelihood product\n",
    "    maxi = -100000 # make sure this is not bigger than all values \n",
    "    max_index = 0\n",
    "    for i, num in enumerate(y):\n",
    "        if num > maxi:\n",
    "            maxi = num\n",
    "            max_index = i\n",
    "    return maxi, x[max_index]"
   ]
  },
  {
   "cell_type": "code",
   "execution_count": 100,
   "metadata": {},
   "outputs": [
    {
     "data": {
      "image/png": "[encoded data removed]",
      "text/plain": [
       "<Figure size 432x288 with 1 Axes>"
      ]
     },
     "metadata": {
      "needs_background": "light"
     },
     "output_type": "display_data"
    }
   ],
   "source": [
    "c,d = MLE(x,28,50, std = 10) # estimate mean; this has to go first to ensure the right estimation of std \n",
    "plt.scatter(c, d)\n",
    "plt.show()"
   ]
  },
  {
   "cell_type": "code",
   "execution_count": 101,
   "metadata": {},
   "outputs": [
    {
     "name": "stdout",
     "output_type": "stream",
     "text": [
      "33.0\n"
     ]
    }
   ],
   "source": [
    "max_likelihood, mean = find_max(c,d)\n",
    "print(mean)"
   ]
  },
  {
   "cell_type": "code",
   "execution_count": 105,
   "metadata": {},
   "outputs": [
    {
     "data": {
      "image/png": "[encoded data removed]",
      "text/plain": [
       "<Figure size 432x288 with 1 Axes>"
      ]
     },
     "metadata": {
      "needs_background": "light"
     },
     "output_type": "display_data"
    }
   ],
   "source": [
    "a,b = MLE(x,3,25,mu = mean) # estimate std with the right mean from previous; this is because the estimate of std requires mean estimate \n",
    "plt.scatter(a, b)\n",
    "plt.show()"
   ]
  },
  {
   "cell_type": "code",
   "execution_count": 106,
   "metadata": {},
   "outputs": [
    {
     "name": "stdout",
     "output_type": "stream",
     "text": [
      "9.2\n"
     ]
    }
   ],
   "source": [
    "max_likelihood, stdev = find_max(a,b)\n",
    "print(stdev)"
   ]
  },
  {
   "cell_type": "code",
   "execution_count": null,
   "metadata": {},
   "outputs": [],
   "source": []
  },
  {
   "cell_type": "markdown",
   "metadata": {},
   "source": [
    "########################################################################################################"
   ]
  },
  {
   "cell_type": "code",
   "execution_count": 70,
   "metadata": {},
   "outputs": [],
   "source": [
    "estimator = []\n",
    "xaxis = []\n",
    "for i in range(300, 510, 2):\n",
    "    m = i/10\n",
    "    xaxis.append(m)\n",
    "    ll = [likelihood(a, m, 10) for a in x] # set std as 10\n",
    "    log_tran = [np.log10(i) for i in ll]\n",
    "    product = sum(log_tran)\n",
    "    estimator.append(product)"
   ]
  },
  {
   "cell_type": "code",
   "execution_count": 71,
   "metadata": {},
   "outputs": [
    {
     "data": {
      "image/png": "[encoded data removed]",
      "text/plain": [
       "<Figure size 432x288 with 1 Axes>"
      ]
     },
     "metadata": {
      "needs_background": "light"
     },
     "output_type": "display_data"
    }
   ],
   "source": [
    "plt.scatter(xaxis, estimator)\n",
    "# plt.ylim([min(estimator), max(estimator)])\n",
    "plt.show()"
   ]
  },
  {
   "cell_type": "code",
   "execution_count": 14,
   "metadata": {},
   "outputs": [],
   "source": [
    "estimator = []\n",
    "xaxis = []\n",
    "for i in range(300, 510, 2):\n",
    "    m = i/10\n",
    "    xaxis.append(m) # use for plot of x-axis \n",
    "    ll = [likelihood(a, m, 10) for a in x] # set std as 10\n",
    "    product = np.prod(ll) * (10 ** 200) # use a scalar to make the number easier to interpret; no real meanings \n",
    "    estimator.append(product)"
   ]
  },
  {
   "cell_type": "code",
   "execution_count": 15,
   "metadata": {},
   "outputs": [
    {
     "data": {
      "image/png": "[encoded data removed]",
      "text/plain": [
       "<Figure size 432x288 with 1 Axes>"
      ]
     },
     "metadata": {
      "needs_background": "light"
     },
     "output_type": "display_data"
    }
   ],
   "source": [
    "plt.scatter(xaxis, estimator)\n",
    "plt.ylim([min(estimator)*0.7, max(estimator)*2])\n",
    "plt.show()"
   ]
  },
  {
   "cell_type": "code",
   "execution_count": 16,
   "metadata": {},
   "outputs": [],
   "source": [
    "std_estimator = []\n",
    "xaxis = []\n",
    "for s in range(30, 250, 2):\n",
    "    std = s/10\n",
    "    xaxis.append(std)\n",
    "    ll = [likelihood(a, mu, std) for a in x] # set std as 10\n",
    "    product = np.prod(ll)* (10 ** 200)\n",
    "    std_estimator.append(product)"
   ]
  },
  {
   "cell_type": "code",
   "execution_count": 17,
   "metadata": {},
   "outputs": [
    {
     "data": {
      "image/png": "[encoded data removed]",
      "text/plain": [
       "<Figure size 432x288 with 1 Axes>"
      ]
     },
     "metadata": {
      "needs_background": "light"
     },
     "output_type": "display_data"
    }
   ],
   "source": [
    "plt.scatter(xaxis, std_estimator)\n",
    "plt.xlim([3,25])\n",
    "plt.ylim([min(std_estimator), max(std_estimator)*1.2])\n",
    "plt.show()"
   ]
  },
  {
   "cell_type": "code",
   "execution_count": 19,
   "metadata": {},
   "outputs": [
    {
     "data": {
      "text/plain": [
       "110"
      ]
     },
     "execution_count": 19,
     "metadata": {},
     "output_type": "execute_result"
    }
   ],
   "source": [
    "len(b)\n",
    "len(std_estimator)"
   ]
  },
  {
   "cell_type": "code",
   "execution_count": 21,
   "metadata": {},
   "outputs": [
    {
     "name": "stdout",
     "output_type": "stream",
     "text": [
      "621112669.2842809 84\n"
     ]
    }
   ],
   "source": [
    "max = max_index = 0\n",
    "for i, num in enumerate(b):\n",
    "    if num > max:\n",
    "        max = num\n",
    "        max_index = i\n",
    "print(max, max_index)"
   ]
  },
  {
   "cell_type": "code",
   "execution_count": 22,
   "metadata": {},
   "outputs": [
    {
     "name": "stdout",
     "output_type": "stream",
     "text": [
      "15190127424872.174 74\n"
     ]
    }
   ],
   "source": [
    "max = max_index = 0\n",
    "for i, num in enumerate(std_estimator):\n",
    "    if num > max:\n",
    "        max = num\n",
    "        max_index = i\n",
    "print(max, max_index)"
   ]
  }
 ],
 "metadata": {
  "kernelspec": {
   "display_name": "Python 3",
   "language": "python",
   "name": "python3"
  },
  "language_info": {
   "codemirror_mode": {
    "name": "ipython",
    "version": 3
   },
   "file_extension": ".py",
   "mimetype": "text/x-python",
   "name": "python",
   "nbconvert_exporter": "python",
   "pygments_lexer": "ipython3",
   "version": "3.7.6"
  }
 },
 "nbformat": 4,
 "nbformat_minor": 4
}
